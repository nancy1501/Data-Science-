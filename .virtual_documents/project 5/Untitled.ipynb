


import pandas as pd
import numpy as np
import matplotlib.pyplot as plt
import seaborn as sns


dataframe = pd.read_csv("Zomato data .csv")
print(dataframe)


dataframe





def handleRate(value):
    value = str(value).split('/')
    value = value[0];
    return float(value)

dataframe['rate'] = dataframe['rate'].apply(handleRate)
print(dataframe.head())


dataframe


dataframe.info()





dataframe.head()












