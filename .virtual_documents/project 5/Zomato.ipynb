


import pandas as pd
import numpy as np
import matplotlib.pyplot as plt
import seaborn as sns


dataframe = pd.read_csv("Zomato data .csv")
print(dataframe)


dataframe





def handleRate(value):
    value = str(value).split('/')
    value = value[0];
    return float(value)

dataframe['rate'] = dataframe['rate'].apply(handleRate)
print(dataframe.head())


dataframe


dataframe.info()





dataframe.head()


sns.countplot(x=dataframe['listed_in(type)'])
plt.xlabel("type of resturant")





dataframe.head()


grouped_data = dataframe.groupby('listed_in(type)')['votes'].sum()
result = pd.DataFrame({'votes': grouped_data})
plt.plot(result, c="blue", marker="o")
plt.xlabel("Type of resturant", c="red", size=20)
plt.ylabel("Votes", c="red", size=20)





dataframe.head()


plt.hist(dataframe['rate'], bins =5)
plt.title("rating distribution")









dataframe.head()


couple_data = dataframe['approx_cost(for two people)']
sns.countplot(x=couple_data)





plt.figure(figsize = (6,6))
sns.boxplot(x = 'online_order', y = 'rate', data = dataframe)





dataframe.head()


pivot_table = dataframe.pivot_table(index='listed_in(type)', columns='online_order', aggfunc='size', fill_value=0)
sns.heatmap(pivot_table, annot=True, cmap="YlGnBu", fmt='d')
plt.title("Heatmap")
plt.xlabel("online order")
plt.ylabel("Listed In (Type)")







