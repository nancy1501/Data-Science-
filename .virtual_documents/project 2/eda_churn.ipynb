pip install pandas


pip install matplotlib


pip install seaborn


pip install numpy


import pandas as pd
import numpy as np
import matplotlib.pyplot as plt
import seaborn as sns

df = pd.read_csv('customer churn.csv')
df.head()


df.info()





df["TotalCharges"] = df["TotalCharges"].replace(" ","0")
df["TotalCharges"] = df["TotalCharges"].astype("float") 


df.isnull().sum().sum()


df.describe() #for descriptive analysis


df["customerID"].duplicated().sum()


def conv(value):
    if value == 1:
        return "yes"
    else:
        return "no"

df['SenoirCitizen'] = df["SeniorCitizen"].apply(conv)





df.head(21)


#why customer stopped using are services


ax = sns.countplot(x = 'Churn', data = df)

ax.bar_label(ax.containers[0])
plt.title("Count Of Customers By Churn")
plt.show()


gb = df.groupby("Churn").agg({'Churn':"count"})
gb
#plt.pie(df['Churn'])
#plt.show()


plt.figure(figsize = (3,4))
gb = df.groupby("Churn").agg({'Churn':"count"})
plt.pie(gb['Churn'], labels = gb.index, autopct = "%1.2f%%")
plt.title("percentage of churn customers")
plt.show()





plt.figure(figsize = (3, 3))
sns.countplot(x = "gender", data = df, hue = "Churn")
plt.title("Churn by Gender")
plt.show


plt.figure(figsize = (3, 3))
ax = sns.countplot(x = "SeniorCitizen", data = df)
ax.bar_label(ax.containers[0])
plt.title("Count of Customers by Senior Citizen")
plt.show


total_counts = df.groupby('SeniorCitizen')['Churn'].value_counts(normalize=True).unstack() * 100

#plot
fig, ax = plt.subplots(figsize=(4, 4))

#plot the bars
total_counts.plot(kind='bar', stacked=True, ax=ax, color=['blue', 'pink'])

#add percentage labels on the bars
for p in ax.patches:
    width, height = p.get_width(), p.get_height()
    x, y = p.get_xy()
    ax.text(x + width / 2, y + height / 2, f'{height:.1f}%', ha='center', va='center')

plt.title('Churn by Senior Citizen (Stacked Bar Chart)')
plt.xlabel('SeniorCitizen')
plt.ylabel('Percentage (%)')
plt.xticks(rotation=0)
plt.legend(title='Churn', bbox_to_anchor = (0.9, 0.9)) 

plt.show()





sns.histplot(x = "tenure", data = df, bins = 72, hue='Churn')
plt.show()
plt.figure(figsize = (9, 4))






plt.figure(figsize = (4, 4))
ax = sns.countplot(x = "Contract", data = df, hue="Churn")
ax.bar_label(ax.containers[0])
plt.title("Count of Customers by Contract")
plt.show





df.columns.values


#List of columns for which we want to create count places
columns = ['PhoneService', 'MultipleLines', 'InternetService', 'OnlineSecurity',
           'OnlineBackup', 'DeviceProtection', 'TechSupport', 'StreamingTV', 'StreamingMovies']

#no of column for the subplot grid (you can change)
n_cols = 3
n_rows = (len(columns) + n_cols -1) // n_cols

#Create Subplots
fig, axes = plt.subplots(n_rows, n_cols, figsize=(15, n_rows * 4)) 

#flatten the axes array for easy iteration
axes = axes.flatten()

#iterate over columns and plot count plots
for i, col in enumerate(columns):
    sns.countplot(x=col, data=df, ax=axes[i], hue = df["Churn"])
    axes[i].set_title(f'Count Plot of {col}')
    axes[i].set_xlabel(col)
    axes[i].set_ylabel('Count')

#Remove empty subplots (if any)
for j in range(i + 1, len(axes)):
    fig.delaxes(axes[j])

plt.tight_layout()
plt.show()





plt.figure(figsize = (4, 4))
ax = sns.countplot(x = "PaymentMethod", data = df, hue="Churn")
ax.bar_label(ax.containers[0])
ax.bar_label(ax.containers[1])
plt.title("Churned Customers By Payment Mathod")
plt.xticks(rotation = 45)
plt.show






